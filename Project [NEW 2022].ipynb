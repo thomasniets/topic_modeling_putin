{
 "cells": [
  {
   "attachments": {},
   "cell_type": "markdown",
   "metadata": {},
   "source": [
    "# A topic modeling analysis of V. Putin’s addresses transcripts\n",
    "v2.0\n",
    "\n",
    "It's been 2 years. Let's see what has changed."
   ]
  },
  {
   "cell_type": "code",
   "execution_count": 2,
   "metadata": {
    "colab": {},
    "colab_type": "code",
    "id": "t8-Kf_0tR3mS"
   },
   "outputs": [],
   "source": [
    "import re\n",
    "from urllib.request import Request, urlopen\n",
    "import time\n",
    "import csv\n",
    "import html2text\n",
    "import pymorphy2\n",
    "import pandas as pd\n",
    "import numpy as np\n",
    "import scipy as sp\n",
    "import sys\n",
    "import string\n",
    "from nltk.corpus import stopwords\n",
    "import nltk\n",
    "from gensim.models import ldamodel, TfidfModel, LdaMulticore, CoherenceModel\n",
    "import gensim.corpora\n",
    "import pickle"
   ]
  },
  {
   "cell_type": "markdown",
   "metadata": {
    "colab_type": "text",
    "id": "65dYLyDjR3mW"
   },
   "source": [
    "## Downloading the data"
   ]
  },
  {
   "cell_type": "markdown",
   "metadata": {
    "colab_type": "text",
    "id": "9i3UApkiR3mX"
   },
   "source": [
    "Dmitry Medvedev was President from the 7th of May 2008 till the 7th of May 2012. We omit the transcripts from that period. Moreover, these are already downloaded. So we should run the code to fetch the new ones only. \n",
    "\n",
    "The last time I downloaded 37 pages with transcripts from 2012-06-12 till 2020-04-19. We'll proceed from page 1 to 9, remove duplicates, pre-process the thing and append it to the previous file. Then, we'll go to another .ipynb file... otherwise, it'll be to hard to read."
   ]
  },
  {
   "cell_type": "code",
   "execution_count": 3,
   "metadata": {},
   "outputs": [],
   "source": [
    "data = pd.read_csv('texts.csv')"
   ]
  },
  {
   "cell_type": "code",
   "execution_count": 42,
   "metadata": {},
   "outputs": [
    {
     "data": {
      "text/plain": [
       "'http://kremlin.ru/events/president/transcripts/copy/63222'"
      ]
     },
     "execution_count": 42,
     "metadata": {},
     "output_type": "execute_result"
    }
   ],
   "source": [
    "data.link.max()"
   ]
  },
  {
   "cell_type": "code",
   "execution_count": 43,
   "metadata": {
    "colab": {},
    "colab_type": "code",
    "id": "5QbQyPvDR3mY"
   },
   "outputs": [
    {
     "name": "stdout",
     "output_type": "stream",
     "text": [
      "Success with page №1\n",
      "Success with page №2\n",
      "Success with page №3\n",
      "Success with page №4\n",
      "Success with page №5\n",
      "Success with page №6\n",
      "Success with page №7\n",
      "Success with page №8\n",
      "Success with page №9\n"
     ]
    }
   ],
   "source": [
    "# parsing pages to get links with transcripts\n",
    "links = []\n",
    "pattern = r'(\\\"/events/president/transcripts/speeches/\\d{5}\\\")'\n",
    "# pattern for elements looking as following:\n",
    "# <a href=\"/events/president/transcripts/speeches/69123\" rel=\"bookmark\" aria-hidden=\"true\" aria-label=\"Текст статьи\" class=\"tabs_article item medium\" title=\"Текст статьи\"><i></i> </a>\n",
    "# no, they don't go like 69123 69122 69121...\n",
    "\n",
    "for i in range(1,10):\n",
    "    url = \"http://kremlin.ru/events/president/transcripts/speeches/page/\" + str(i)\n",
    "    req = Request(url, headers={'User-Agent': 'Mozilla/5.0'})\n",
    "    page = urlopen(req).read().decode(\"utf8\")\n",
    "    links.append(re.findall(pattern, page))\n",
    "    print(\"Success with page №\" + str(i))\n",
    "    time.sleep(3)"
   ]
  },
  {
   "cell_type": "code",
   "execution_count": 59,
   "metadata": {},
   "outputs": [
    {
     "data": {
      "text/plain": [
       "180"
      ]
     },
     "execution_count": 59,
     "metadata": {},
     "output_type": "execute_result"
    }
   ],
   "source": [
    "links_sorted = sorted(list(set([y for x in links for y in x])))\n",
    "len(links_sorted)"
   ]
  },
  {
   "cell_type": "code",
   "execution_count": 50,
   "metadata": {},
   "outputs": [
    {
     "data": {
      "text/plain": [
       "'\"/events/president/transcripts/speeches/62732\"'"
      ]
     },
     "execution_count": 50,
     "metadata": {},
     "output_type": "execute_result"
    }
   ],
   "source": [
    "links_sorted[0]"
   ]
  },
  {
   "cell_type": "code",
   "execution_count": 71,
   "metadata": {},
   "outputs": [],
   "source": [
    "for link in links_sorted:\n",
    "    if \"http://kremlin.ru/events/president/transcripts/copy/\" + link[-6:-1] in list(data.link):\n",
    "        print(link)\n",
    "        links_sorted.remove(link)"
   ]
  },
  {
   "cell_type": "code",
   "execution_count": 72,
   "metadata": {},
   "outputs": [
    {
     "data": {
      "text/plain": [
       "162"
      ]
     },
     "execution_count": 72,
     "metadata": {},
     "output_type": "execute_result"
    }
   ],
   "source": [
    "len(links_sorted)"
   ]
  },
  {
   "cell_type": "code",
   "execution_count": 73,
   "metadata": {
    "colab": {},
    "colab_type": "code",
    "id": "H4mX18ADR3ma",
    "outputId": "c7755052-664c-45e4-8e32-f473949b4a50"
   },
   "outputs": [
    {
     "name": "stdout",
     "output_type": "stream",
     "text": [
      "Success with link №1\n",
      "Success with link №2\n",
      "Success with link №3\n",
      "Success with link №4\n",
      "Success with link №5\n",
      "Success with link №6\n",
      "Success with link №7\n",
      "Success with link №8\n",
      "Success with link №9\n",
      "Success with link №10\n",
      "Success with link №11\n",
      "Success with link №12\n",
      "Success with link №13\n",
      "Success with link №14\n",
      "Success with link №15\n",
      "Success with link №16\n",
      "Success with link №17\n",
      "Success with link №18\n",
      "Success with link №19\n",
      "Success with link №20\n",
      "Success with link №21\n",
      "Success with link №22\n",
      "Success with link №23\n",
      "Success with link №24\n",
      "Success with link №25\n",
      "Success with link №26\n",
      "Success with link №27\n",
      "Success with link №28\n",
      "Success with link №29\n",
      "Success with link №30\n",
      "Success with link №31\n",
      "Success with link №32\n",
      "Success with link №33\n",
      "Success with link №34\n",
      "Success with link №35\n",
      "Success with link №36\n",
      "Success with link №37\n",
      "Success with link №38\n",
      "Success with link №39\n",
      "Success with link №40\n",
      "Success with link №41\n",
      "Success with link №42\n",
      "Success with link №43\n",
      "Success with link №44\n",
      "Success with link №45\n",
      "Success with link №46\n",
      "Success with link №47\n",
      "Success with link №48\n",
      "Success with link №49\n",
      "Success with link №50\n",
      "Success with link №51\n",
      "Success with link №52\n",
      "Success with link №53\n",
      "Success with link №54\n",
      "Success with link №55\n",
      "Success with link №56\n",
      "Success with link №57\n",
      "Success with link №58\n",
      "Success with link №59\n",
      "Success with link №60\n",
      "Success with link №61\n",
      "Success with link №62\n",
      "Success with link №63\n",
      "Success with link №64\n",
      "Success with link №65\n",
      "Success with link №66\n",
      "Success with link №67\n",
      "Success with link №68\n",
      "Success with link №69\n",
      "Success with link №70\n",
      "Success with link №71\n",
      "Success with link №72\n",
      "Success with link №73\n",
      "Success with link №74\n",
      "Success with link №75\n",
      "Success with link №76\n",
      "Success with link №77\n",
      "Success with link №78\n",
      "Success with link №79\n",
      "Success with link №80\n",
      "Success with link №81\n",
      "Success with link №82\n",
      "Success with link №83\n",
      "Success with link №84\n",
      "Success with link №85\n",
      "Success with link №86\n",
      "Success with link №87\n",
      "Success with link №88\n",
      "Success with link №89\n",
      "Success with link №90\n",
      "Success with link №91\n",
      "Success with link №92\n",
      "Success with link №93\n",
      "Success with link №94\n",
      "Success with link №95\n",
      "Success with link №96\n",
      "Success with link №97\n",
      "Success with link №98\n",
      "Success with link №99\n",
      "Success with link №100\n",
      "Success with link №101\n",
      "Success with link №102\n",
      "Success with link №103\n",
      "Success with link №104\n",
      "Success with link №105\n",
      "Success with link №106\n",
      "Success with link №107\n",
      "Success with link №108\n",
      "Success with link №109\n",
      "Success with link №110\n",
      "Success with link №111\n",
      "Success with link №112\n",
      "Success with link №113\n",
      "Success with link №114\n",
      "Success with link №115\n",
      "Success with link №116\n",
      "Success with link №117\n",
      "Success with link №118\n",
      "Success with link №119\n",
      "Success with link №120\n",
      "Success with link №121\n",
      "Success with link №122\n",
      "Success with link №123\n",
      "Success with link №124\n",
      "Success with link №125\n",
      "Success with link №126\n",
      "Success with link №127\n",
      "Success with link №128\n",
      "Success with link №129\n",
      "Success with link №130\n",
      "Success with link №131\n",
      "Success with link №132\n",
      "Success with link №133\n",
      "Success with link №134\n",
      "Success with link №135\n",
      "Success with link №136\n",
      "Success with link №137\n",
      "Success with link №138\n",
      "Success with link №139\n",
      "Success with link №140\n",
      "Success with link №141\n",
      "Success with link №142\n",
      "Success with link №143\n",
      "Success with link №144\n",
      "Success with link №145\n",
      "Success with link №146\n",
      "Success with link №147\n",
      "Success with link №148\n",
      "Success with link №149\n",
      "Success with link №150\n",
      "Success with link №151\n",
      "Success with link №152\n",
      "Success with link №153\n",
      "Success with link №154\n",
      "Success with link №155\n",
      "Success with link №156\n",
      "Success with link №157\n",
      "Success with link №158\n",
      "Success with link №159\n",
      "Success with link №160\n",
      "Success with link №161\n",
      "Success with link №162\n"
     ]
    }
   ],
   "source": [
    "texts = {}\n",
    "i=0\n",
    "for link in links_sorted:\n",
    "    url = \"http://kremlin.ru/events/president/transcripts/copy/\" + link[-6:-1]\n",
    "    h = html2text.HTML2Text()\n",
    "    try:\n",
    "        req = Request(url, headers={'User-Agent': 'Mozilla/5.0'})\n",
    "        page = urlopen(req).read().decode(\"utf8\")\n",
    "        texts[url] = h.handle(page)\n",
    "        i+=1\n",
    "        print(\"Success with link №\" + str(i))\n",
    "        if i%15==0:\n",
    "            time.sleep(45)\n",
    "    except:\n",
    "        print(\"Error\")\n",
    "        continue"
   ]
  },
  {
   "cell_type": "markdown",
   "metadata": {
    "colab_type": "text",
    "id": "KfsHy7IFR3me"
   },
   "source": [
    "We have 162 new texts"
   ]
  },
  {
   "cell_type": "code",
   "execution_count": 74,
   "metadata": {},
   "outputs": [
    {
     "name": "stdout",
     "output_type": "stream",
     "text": [
      "We have  162  new texts!\n"
     ]
    }
   ],
   "source": [
    "print(\"We have \", len(texts) , \" new texts!\")"
   ]
  },
  {
   "cell_type": "markdown",
   "metadata": {
    "colab_type": "text",
    "id": "ga66e0hAR3mi"
   },
   "source": [
    "Saving as csv for safety reasons since download takes a lot of time:"
   ]
  },
  {
   "cell_type": "code",
   "execution_count": 75,
   "metadata": {
    "colab": {},
    "colab_type": "code",
    "id": "idD5af1cR3mi"
   },
   "outputs": [],
   "source": [
    "f = open(\"texts_new.csv\", \"w\")\n",
    "writer = csv.writer(f)\n",
    "writer.writerow([\"link\",\"text\"])\n",
    "for key, value in texts.items():\n",
    "    writer.writerow([key, value])\n",
    "f.close()"
   ]
  },
  {
   "cell_type": "markdown",
   "metadata": {
    "colab_type": "text",
    "id": "PyGwVUvSR3ml"
   },
   "source": [
    "## Preparing the data "
   ]
  },
  {
   "cell_type": "code",
   "execution_count": 100,
   "metadata": {
    "colab": {
     "base_uri": "https://localhost:8080/",
     "height": 232
    },
    "colab_type": "code",
    "id": "f8vD02LHR3ml",
    "outputId": "63c13b5e-7d31-4bed-a827-231ce71dd8bf"
   },
   "outputs": [],
   "source": [
    "data = pd.read_csv('texts_new.csv')\n",
    "data_text = data[['text']]\n",
    "#empty columns for future \n",
    "data_text[\"date\"] = np.nan\n",
    "data_text[\"tokens\"] = np.nan\n",
    "data_text[\"lemmas\"] = np.nan\n",
    "data_text = data_text.astype('str')"
   ]
  },
  {
   "cell_type": "code",
   "execution_count": 101,
   "metadata": {
    "colab": {},
    "colab_type": "code",
    "id": "e7ufXT-pR3mo",
    "outputId": "4dbbb519-ea5c-41ea-bf82-291602394352"
   },
   "outputs": [
    {
     "data": {
      "text/plain": [
       "'75-летие Победы 2020-05-09 11:50:00 Москва В день 75-летия Победы в Великой\\nОтечественной войне Президент России возложил цветы к Могиле Неизвестного\\nСолдата в Александровском саду. В завершение церемонии перед мемориалом\\nторжественным маршем прошли рота почётного караула и оркестр. Глава\\nгосударства также возложил цветы к обелискам городов-героев и памятному знаку\\nв честь городов, удостоенных почётного звания «Город воинской славы». По\\nокончании церемонии с Ивановской площади Кремля Владимир Путин наблюдал за\\nвоздушным парадом в честь 75-летия Победы. Президент поручил Министру обороны\\nСергею Шойгу передать благодарность лётному составу и наземным службам\\nМинистерства обороны Российской Федерации, которые проводили и обеспечивали\\nвоздушный парад в Москве и других городах России в День Победы. Владимир Путин\\nпоздравил ветеранов, всех граждан России с Днём Победы. * * * Выступление на\\nцеремонии возложения цветов к Могиле Неизвестного Солдата В.Путин: Уважаемые\\nграждане России! Уважаемые ветераны! Дорогие друзья! От всего сердца\\nпоздравляю вас с Днём Победы! Для нас всех это самый главный, самый дорогой\\nпраздник. Мы всегда отмечаем его торжественно и всенародно, все вместе.\\nДуховное, нравственное значение Дня Победы остаётся неизменно великим, а наше\\nотношение к нему – священным. Это наша память и гордость, история нашей\\nстраны, история каждой семьи, часть нашей души, которую передали нам отцы и\\nматери, наши бабушки и дедушки. Сегодня мы остро чувствуем всё величие их\\nсудеб, вспоминаем тех, кого уже нет с нами, с любовью вглядываемся в их лица\\nна фотографиях разных лет, желаем долгих лет жизни нашим ветеранам,\\nпреклоняемся перед великим поколением победителей. Они сделали для Родины\\nстолько, что это никак не измерить, ничем не оплатить. Они спасли Отечество,\\nжизнь будущих поколений, освободили Европу, защитили мир, восстановили города\\nи сёла, добились грандиозных свершений. Мы отдаём дань бесконечного признания\\nвеликому, жертвенному подвигу советского народа, людям разных национальностей,\\nстоявших плечом к плечу на фронте и в тылу. Время не властно перед их\\nмужеством, единством, достоинством и поистине стальной силой духа. Дорогие\\nдрузья! Здесь, у Кремлёвской стены, священное для всех нас место. День и ночь\\nгорит вечный огонь в память погибших в Великую Отечественную войну. Здесь\\nлежит Неизвестный Солдат. Мы приходим сюда поклониться ему и всем защитникам\\nРодины, героям, кто навеки остался в братских, безызвестных могилах под\\nМосквой и Смоленском, Сталинградом и Курском, под Севастополем и Минском,\\nКиевом и Ригой, под Берлином и Веной, на Пулковских высотах, на берегах Невы,\\nДнепра, Дуная, Вислы и Одера. Миллионы павших не увидели, не дождались Победы\\n– Победы, о которой так мечтали, верили, что одолеют врага и вернутся в свой\\nродной дом. И они бились за это, бились до последнего вздоха, отдали свои\\nжизни, чтобы жили мы, наши дети и внуки, те, кто ещё не родился, кому\\nпредстоит прийти в этот мир, который отстоял, сберёг советский солдат. Мы\\nсклоняем головы перед светлой памятью всех, кто не вернулся с войны, перед\\nпамятью сыновей, дочерей, отцов, матерей, дедов, прадедов, мужей, жён,\\nбратьев, сестёр, однополчан, родных, друзей. Объявляется минута молчания.\\n(Минута молчания.) Дорогие друзья! 75 лет прошло, как закончилась Великая\\nОтечественная война. Мы обязательно, как обычно, широко и торжественно отметим\\nюбилейную дату, сделаем это достойно, как велит наш долг перед теми, кто\\nвыстрадал, добился и свершил Победу. Будет и наш главный парад на Красной\\nплощади, и народный марш «Бессмертного полка» – марш нашей благодарной памяти\\nи неразрывной, кровной, живой связи между поколениями. Наши ветераны сражались\\nза жизнь против смерти. И мы всегда будем равняться на их сплочённость и\\nстойкость. Нас объединяют общая память и общие надежды, наши общие\\nустремления, наша ответственность за настоящее и будущее. Мы знаем и твёрдо\\nверим, что мы непобедимы, когда мы вместе. С праздником вас! С Днём Победы!\\nУра! (Звучит Гимн России.)\\n\\n'"
      ]
     },
     "execution_count": 101,
     "metadata": {},
     "output_type": "execute_result"
    }
   ],
   "source": [
    "data_text.loc[1,'text']"
   ]
  },
  {
   "cell_type": "markdown",
   "metadata": {
    "colab_type": "text",
    "id": "Ijzg4es8R3mr"
   },
   "source": [
    "Removing stop words, punctuation, numbers and dates (which go to a separate column):"
   ]
  },
  {
   "cell_type": "code",
   "execution_count": 102,
   "metadata": {
    "colab": {},
    "colab_type": "code",
    "id": "Xurn3GZfR3ms"
   },
   "outputs": [],
   "source": [
    "stop_words = stopwords.words('russian')\n",
    "stop_words.extend(['здравствуйте','уважаемая','уважаемый','уважаемые','товарищи','дамы', 'господа', 'коллеги', 'друзья','всё','что', 'это', 'так', 'вот', 'быть', 'как', 'в', '—', '–', 'к', 'на', '...','«'])\n"
   ]
  },
  {
   "cell_type": "code",
   "execution_count": 105,
   "metadata": {
    "colab": {},
    "colab_type": "code",
    "id": "mvPOo73BR3mu",
    "outputId": "23f17d4a-dfd2-4925-a95d-c2930435a56a"
   },
   "outputs": [],
   "source": [
    "pattern = r'(\\d{4}-\\d{2}-\\d{2})'\n",
    "\n",
    "for idx in range(len(data_text)):\n",
    "    text = data_text.loc[idx,'text']\n",
    "    text = text.lower()\n",
    "\n",
    "    date = re.search(pattern,text).group(0)\n",
    "    data_text.at[idx,'date'] = date\n",
    "    \n",
    "    text = re.sub(r'\\[.*?\\]', '', text)\n",
    "    text = re.sub(r'\\n', ' ', text)\n",
    "    text = re.sub(r'[%s]' % re.escape(string.punctuation), '', text)\n",
    "    text = re.sub(r'\\w*\\d\\w*', '', text)\n",
    "    data_text.at[idx, 'tokens'] = [word for word in text.split(' ') if word not in stop_words and word != \"\"]\n",
    "    "
   ]
  },
  {
   "cell_type": "markdown",
   "metadata": {
    "colab_type": "text",
    "id": "Vrf040Y7R3mx"
   },
   "source": [
    "Separating the speeches from titles and lemmatizing them if their POS tags interest us (we're leaving nouns, verbs, both forms of adjectives with comparatives, participles and gerunds)."
   ]
  },
  {
   "cell_type": "code",
   "execution_count": 107,
   "metadata": {
    "colab": {},
    "colab_type": "code",
    "id": "x7jvOZScR3my"
   },
   "outputs": [
    {
     "name": "stderr",
     "output_type": "stream",
     "text": [
      "/Library/Frameworks/Python.framework/Versions/3.9/lib/python3.9/site-packages/pymorphy2/units/base.py:70: DeprecationWarning: inspect.getargspec() is deprecated since Python 3.0, use inspect.signature() or inspect.getfullargspec()\n",
      "  args, varargs, kw, default = inspect.getargspec(cls.__init__)\n",
      "/Library/Frameworks/Python.framework/Versions/3.9/lib/python3.9/site-packages/pymorphy2/units/base.py:70: DeprecationWarning: inspect.getargspec() is deprecated since Python 3.0, use inspect.signature() or inspect.getfullargspec()\n",
      "  args, varargs, kw, default = inspect.getargspec(cls.__init__)\n",
      "/Library/Frameworks/Python.framework/Versions/3.9/lib/python3.9/site-packages/pymorphy2/units/base.py:70: DeprecationWarning: inspect.getargspec() is deprecated since Python 3.0, use inspect.signature() or inspect.getfullargspec()\n",
      "  args, varargs, kw, default = inspect.getargspec(cls.__init__)\n",
      "/Library/Frameworks/Python.framework/Versions/3.9/lib/python3.9/site-packages/pymorphy2/units/base.py:70: DeprecationWarning: inspect.getargspec() is deprecated since Python 3.0, use inspect.signature() or inspect.getfullargspec()\n",
      "  args, varargs, kw, default = inspect.getargspec(cls.__init__)\n",
      "/Library/Frameworks/Python.framework/Versions/3.9/lib/python3.9/site-packages/pymorphy2/units/base.py:70: DeprecationWarning: inspect.getargspec() is deprecated since Python 3.0, use inspect.signature() or inspect.getfullargspec()\n",
      "  args, varargs, kw, default = inspect.getargspec(cls.__init__)\n",
      "/Library/Frameworks/Python.framework/Versions/3.9/lib/python3.9/site-packages/pymorphy2/units/base.py:70: DeprecationWarning: inspect.getargspec() is deprecated since Python 3.0, use inspect.signature() or inspect.getfullargspec()\n",
      "  args, varargs, kw, default = inspect.getargspec(cls.__init__)\n",
      "/Library/Frameworks/Python.framework/Versions/3.9/lib/python3.9/site-packages/pymorphy2/units/base.py:70: DeprecationWarning: inspect.getargspec() is deprecated since Python 3.0, use inspect.signature() or inspect.getfullargspec()\n",
      "  args, varargs, kw, default = inspect.getargspec(cls.__init__)\n",
      "/Library/Frameworks/Python.framework/Versions/3.9/lib/python3.9/site-packages/pymorphy2/units/base.py:70: DeprecationWarning: inspect.getargspec() is deprecated since Python 3.0, use inspect.signature() or inspect.getfullargspec()\n",
      "  args, varargs, kw, default = inspect.getargspec(cls.__init__)\n",
      "/Library/Frameworks/Python.framework/Versions/3.9/lib/python3.9/site-packages/pymorphy2/units/base.py:70: DeprecationWarning: inspect.getargspec() is deprecated since Python 3.0, use inspect.signature() or inspect.getfullargspec()\n",
      "  args, varargs, kw, default = inspect.getargspec(cls.__init__)\n",
      "/Library/Frameworks/Python.framework/Versions/3.9/lib/python3.9/site-packages/pymorphy2/units/base.py:70: DeprecationWarning: inspect.getargspec() is deprecated since Python 3.0, use inspect.signature() or inspect.getfullargspec()\n",
      "  args, varargs, kw, default = inspect.getargspec(cls.__init__)\n",
      "/Library/Frameworks/Python.framework/Versions/3.9/lib/python3.9/site-packages/pymorphy2/units/base.py:70: DeprecationWarning: inspect.getargspec() is deprecated since Python 3.0, use inspect.signature() or inspect.getfullargspec()\n",
      "  args, varargs, kw, default = inspect.getargspec(cls.__init__)\n",
      "/Library/Frameworks/Python.framework/Versions/3.9/lib/python3.9/site-packages/pymorphy2/units/base.py:70: DeprecationWarning: inspect.getargspec() is deprecated since Python 3.0, use inspect.signature() or inspect.getfullargspec()\n",
      "  args, varargs, kw, default = inspect.getargspec(cls.__init__)\n"
     ]
    }
   ],
   "source": [
    "morph = pymorphy2.MorphAnalyzer() #russian by default\n",
    "for idx in range(len(data_text)):\n",
    "    text = data_text.loc[idx,'tokens']\n",
    "    for i in reversed(range(len(text))):\n",
    "        if text[i]==\"впутин\":\n",
    "            text = text[i+1:]\n",
    "            break\n",
    "    data_text.at[idx,'tokens'] = text\n",
    "    \n",
    "    lemmas = []\n",
    "    for token in text:\n",
    "        p = morph.parse(token)[0]\n",
    "        lemma = p.normal_form\n",
    "        if p.tag.POS in ['VERB','NOUN','COMP','INFN','ADJF','ADJS','PRTF','PRTS','GRND']:\n",
    "            if len(lemma)>3:\n",
    "                lemmas.append(lemma)\n",
    "    data_text.at[idx,'lemmas'] = lemmas"
   ]
  },
  {
   "cell_type": "code",
   "execution_count": 108,
   "metadata": {},
   "outputs": [
    {
     "data": {
      "text/html": [
       "<div>\n",
       "<style scoped>\n",
       "    .dataframe tbody tr th:only-of-type {\n",
       "        vertical-align: middle;\n",
       "    }\n",
       "\n",
       "    .dataframe tbody tr th {\n",
       "        vertical-align: top;\n",
       "    }\n",
       "\n",
       "    .dataframe thead th {\n",
       "        text-align: right;\n",
       "    }\n",
       "</style>\n",
       "<table border=\"1\" class=\"dataframe\">\n",
       "  <thead>\n",
       "    <tr style=\"text-align: right;\">\n",
       "      <th></th>\n",
       "      <th>text</th>\n",
       "      <th>date</th>\n",
       "      <th>tokens</th>\n",
       "      <th>lemmas</th>\n",
       "    </tr>\n",
       "  </thead>\n",
       "  <tbody>\n",
       "    <tr>\n",
       "      <th>0</th>\n",
       "      <td>Обращение к австрийским гражданам по случаю 75...</td>\n",
       "      <td>2020-05-08</td>\n",
       "      <td>[дорогие, liebe, freunde, добрый, день, grüß, ...</td>\n",
       "      <td>[дорогой, добрый, день, хотеть, поблагодарить,...</td>\n",
       "    </tr>\n",
       "    <tr>\n",
       "      <th>1</th>\n",
       "      <td>75-летие Победы 2020-05-09 11:50:00 Москва В д...</td>\n",
       "      <td>2020-05-09</td>\n",
       "      <td>[граждане, россии, ветераны, дорогие, сердца, ...</td>\n",
       "      <td>[гражданин, россия, ветеран, дорогой, сердце, ...</td>\n",
       "    </tr>\n",
       "    <tr>\n",
       "      <th>2</th>\n",
       "      <td>Смотр Президентского полка 2020-05-09 12:15:00...</td>\n",
       "      <td>2020-05-09</td>\n",
       "      <td>[поздравляю, военнослужащих, россии, наших, до...</td>\n",
       "      <td>[поздравлять, военнослужащий, россия, дорогой,...</td>\n",
       "    </tr>\n",
       "    <tr>\n",
       "      <th>3</th>\n",
       "      <td>Поздравление выпускникам высших военно-учебных...</td>\n",
       "      <td>2020-05-10</td>\n",
       "      <td>[офицеры, дорогие, поздравляю, выпускников, во...</td>\n",
       "      <td>[офицер, дорогой, поздравлять, выпускник, воен...</td>\n",
       "    </tr>\n",
       "    <tr>\n",
       "      <th>4</th>\n",
       "      <td>Акция «Бессмертный полк» 2020-05-09 15:00:00 М...</td>\n",
       "      <td>2020-05-09</td>\n",
       "      <td>[дорогие, хочу, обратиться, регулярно, зову, с...</td>\n",
       "      <td>[дорогой, хотеть, обратиться, звать, сердце, п...</td>\n",
       "    </tr>\n",
       "    <tr>\n",
       "      <th>...</th>\n",
       "      <td>...</td>\n",
       "      <td>...</td>\n",
       "      <td>...</td>\n",
       "      <td>...</td>\n",
       "    </tr>\n",
       "    <tr>\n",
       "      <th>157</th>\n",
       "      <td>Торжественный концерт, посвящённый 1160-летию ...</td>\n",
       "      <td>2022-09-21</td>\n",
       "      <td>[сегодня, отмечаем, лет, российской, государст...</td>\n",
       "      <td>[отмечать, российский, государственность, позд...</td>\n",
       "    </tr>\n",
       "    <tr>\n",
       "      <th>158</th>\n",
       "      <td>Подписание договоров о принятии ДНР, ЛНР, Запо...</td>\n",
       "      <td>2022-09-30</td>\n",
       "      <td>[граждане, россии, граждане, донецкой, луганск...</td>\n",
       "      <td>[гражданин, россия, гражданин, донецкий, луган...</td>\n",
       "    </tr>\n",
       "    <tr>\n",
       "      <th>159</th>\n",
       "      <td>Митинг-концерт «Выбор людей. Вместе навсегда» ...</td>\n",
       "      <td>2022-09-30</td>\n",
       "      <td>[дорогие, сегодня, особый, торжественный, всяк...</td>\n",
       "      <td>[дорогой, особый, торжественный, всякий, данны...</td>\n",
       "    </tr>\n",
       "    <tr>\n",
       "      <th>160</th>\n",
       "      <td>Поздравление с Днём работника сельского хозяйс...</td>\n",
       "      <td>2022-10-09</td>\n",
       "      <td>[дорогие, поздравляю, профессиональным, праздн...</td>\n",
       "      <td>[дорогой, поздравлять, профессиональный, празд...</td>\n",
       "    </tr>\n",
       "    <tr>\n",
       "      <th>161</th>\n",
       "      <td>Пленарное заседание международного форума «Рос...</td>\n",
       "      <td>2022-10-12</td>\n",
       "      <td>[добрый, день, дорогие, приветствую, участнико...</td>\n",
       "      <td>[добрый, день, дорогой, приветствовать, участн...</td>\n",
       "    </tr>\n",
       "  </tbody>\n",
       "</table>\n",
       "<p>162 rows × 4 columns</p>\n",
       "</div>"
      ],
      "text/plain": [
       "                                                  text        date  \\\n",
       "0    Обращение к австрийским гражданам по случаю 75...  2020-05-08   \n",
       "1    75-летие Победы 2020-05-09 11:50:00 Москва В д...  2020-05-09   \n",
       "2    Смотр Президентского полка 2020-05-09 12:15:00...  2020-05-09   \n",
       "3    Поздравление выпускникам высших военно-учебных...  2020-05-10   \n",
       "4    Акция «Бессмертный полк» 2020-05-09 15:00:00 М...  2020-05-09   \n",
       "..                                                 ...         ...   \n",
       "157  Торжественный концерт, посвящённый 1160-летию ...  2022-09-21   \n",
       "158  Подписание договоров о принятии ДНР, ЛНР, Запо...  2022-09-30   \n",
       "159  Митинг-концерт «Выбор людей. Вместе навсегда» ...  2022-09-30   \n",
       "160  Поздравление с Днём работника сельского хозяйс...  2022-10-09   \n",
       "161  Пленарное заседание международного форума «Рос...  2022-10-12   \n",
       "\n",
       "                                                tokens  \\\n",
       "0    [дорогие, liebe, freunde, добрый, день, grüß, ...   \n",
       "1    [граждане, россии, ветераны, дорогие, сердца, ...   \n",
       "2    [поздравляю, военнослужащих, россии, наших, до...   \n",
       "3    [офицеры, дорогие, поздравляю, выпускников, во...   \n",
       "4    [дорогие, хочу, обратиться, регулярно, зову, с...   \n",
       "..                                                 ...   \n",
       "157  [сегодня, отмечаем, лет, российской, государст...   \n",
       "158  [граждане, россии, граждане, донецкой, луганск...   \n",
       "159  [дорогие, сегодня, особый, торжественный, всяк...   \n",
       "160  [дорогие, поздравляю, профессиональным, праздн...   \n",
       "161  [добрый, день, дорогие, приветствую, участнико...   \n",
       "\n",
       "                                                lemmas  \n",
       "0    [дорогой, добрый, день, хотеть, поблагодарить,...  \n",
       "1    [гражданин, россия, ветеран, дорогой, сердце, ...  \n",
       "2    [поздравлять, военнослужащий, россия, дорогой,...  \n",
       "3    [офицер, дорогой, поздравлять, выпускник, воен...  \n",
       "4    [дорогой, хотеть, обратиться, звать, сердце, п...  \n",
       "..                                                 ...  \n",
       "157  [отмечать, российский, государственность, позд...  \n",
       "158  [гражданин, россия, гражданин, донецкий, луган...  \n",
       "159  [дорогой, особый, торжественный, всякий, данны...  \n",
       "160  [дорогой, поздравлять, профессиональный, празд...  \n",
       "161  [добрый, день, дорогой, приветствовать, участн...  \n",
       "\n",
       "[162 rows x 4 columns]"
      ]
     },
     "execution_count": 108,
     "metadata": {},
     "output_type": "execute_result"
    }
   ],
   "source": [
    "data_text"
   ]
  },
  {
   "cell_type": "code",
   "execution_count": 109,
   "metadata": {
    "colab": {},
    "colab_type": "code",
    "id": "aaSdOJS-R3m5"
   },
   "outputs": [],
   "source": [
    "pickle.dump(data_text, open('data_text_new.dat', 'wb'))"
   ]
  },
  {
   "cell_type": "markdown",
   "metadata": {},
   "source": [
    "Now, let's hope we will never open this .ipynb again"
   ]
  }
 ],
 "metadata": {
  "colab": {
   "collapsed_sections": [],
   "name": "Project.ipynb",
   "provenance": [],
   "toc_visible": true
  },
  "kernelspec": {
   "display_name": "Python 3.9.8 64-bit",
   "language": "python",
   "name": "python3"
  },
  "language_info": {
   "codemirror_mode": {
    "name": "ipython",
    "version": 3
   },
   "file_extension": ".py",
   "mimetype": "text/x-python",
   "name": "python",
   "nbconvert_exporter": "python",
   "pygments_lexer": "ipython3",
   "version": "3.9.8"
  },
  "vscode": {
   "interpreter": {
    "hash": "aee8b7b246df8f9039afb4144a1f6fd8d2ca17a180786b69acc140d282b71a49"
   }
  }
 },
 "nbformat": 4,
 "nbformat_minor": 1
}
